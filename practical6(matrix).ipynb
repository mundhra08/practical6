{
  "nbformat": 4,
  "nbformat_minor": 0,
  "metadata": {
    "colab": {
      "name": "practical6(matrix).ipynb",
      "provenance": [],
      "collapsed_sections": [],
      "authorship_tag": "ABX9TyNTBeQJ8gOWUPP0ScN4l1zT",
      "include_colab_link": true
    },
    "kernelspec": {
      "name": "python3",
      "display_name": "Python 3"
    },
    "language_info": {
      "name": "python"
    }
  },
  "cells": [
    {
      "cell_type": "markdown",
      "metadata": {
        "id": "view-in-github",
        "colab_type": "text"
      },
      "source": [
        "<a href=\"https://colab.research.google.com/github/mundhra08/practical6/blob/main/practical6(matrix).ipynb\" target=\"_parent\"><img src=\"https://colab.research.google.com/assets/colab-badge.svg\" alt=\"Open In Colab\"/></a>"
      ]
    },
    {
      "cell_type": "code",
      "metadata": {
        "id": "eVDTRJWFmR7S",
        "colab": {
          "base_uri": "https://localhost:8080/"
        },
        "outputId": "bd610781-0506-4258-b497-e205ad26b235"
      },
      "source": [
        "m=int(input(\"enter the no. of col:\"))\n",
        "n=int(input(\"enter the no. of row:\"))\n",
        "\n",
        "def mat(m,n):\n",
        "  out=[]\n",
        "  for i in range(m):\n",
        "    row=[]\n",
        "    for j in range(n):\n",
        "      num=int(input(\"enter the num \")) \n",
        "      row.append(num)\n",
        "    out.append(row)\n",
        "  return out\n",
        "\n",
        "m1=mat(m,n)\n",
        "print(m1)\n",
        "\n",
        "m2=mat(m,n)\n",
        "print(m2)\n",
        "\n",
        "def add\n",
        "\n",
        "for i in range(len(m1)):\n",
        "  for j in range(len(m2)):\n",
        "    sum=m1[i][j]+m2[i][j]\n",
        "    sub=m1[i][j]-m2[i][j]\n",
        "\n",
        "  from pprint import pprint\n",
        "  pprint(sum)\n",
        "  pprint(sub)\n"
      ],
      "execution_count": null,
      "outputs": [
        {
          "output_type": "stream",
          "name": "stdout",
          "text": [
            "enter the no. of col:2\n",
            "enter the no. of row:2\n",
            "enter the num 1\n",
            "enter the num 2\n",
            "enter the num 3\n",
            "enter the num 4\n",
            "[[1, 2], [3, 4]]\n",
            "enter the num 5\n",
            "enter the num 6\n",
            "enter the num 7\n",
            "enter the num 8\n",
            "[[5, 6], [7, 8]]\n",
            "8\n",
            "-4\n",
            "12\n",
            "-4\n"
          ]
        }
      ]
    }
  ]
}